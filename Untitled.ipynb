{
 "cells": [
  {
   "cell_type": "code",
   "execution_count": 2,
   "metadata": {},
   "outputs": [],
   "source": [
    "from bokeh.io import curdoc\n",
    "from bokeh.models.widgets import FileInput\n",
    "from bokeh.models import ColumnDataSource\n",
    "\n",
    "source = ColumnDataSource(dict())\n",
    "\n",
    "def upload_fit_data(attr, old, new):\n",
    "    print(\"fit data upload succeeded\")\n",
    "    print(file_input.value)\n",
    "    data = b64decode(file_input.value)\n",
    "    soure.data = data\n",
    "    \n",
    "    \n",
    "file_input = FileInput(accept=\".csv,.json,.txt\")\n",
    "file_input.on_change('value', upload_fit_data)\n",
    "\n",
    "curdoc().add_root(file_input)"
   ]
  },
  {
   "cell_type": "code",
   "execution_count": null,
   "metadata": {},
   "outputs": [],
   "source": []
  }
 ],
 "metadata": {
  "kernelspec": {
   "display_name": "Python 3",
   "language": "python",
   "name": "python3"
  },
  "language_info": {
   "codemirror_mode": {
    "name": "ipython",
    "version": 3
   },
   "file_extension": ".py",
   "mimetype": "text/x-python",
   "name": "python",
   "nbconvert_exporter": "python",
   "pygments_lexer": "ipython3",
   "version": "3.6.9"
  }
 },
 "nbformat": 4,
 "nbformat_minor": 4
}
